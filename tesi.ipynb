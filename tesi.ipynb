{
  "cells": [
    {
      "cell_type": "markdown",
      "metadata": {
        "id": "clfp4P8Z2p_M"
      },
      "source": [
        "##Imports"
      ]
    },
    {
      "cell_type": "code",
      "execution_count": null,
      "metadata": {
        "id": "bEw9Ds0CPfH4"
      },
      "outputs": [],
      "source": [
        "from google.colab import drive\n",
        "drive.mount('/content/drive')\n",
        "\n",
        "!pip install torchmetrics --quiet\n",
        "!pip install rasterio --quiet\n",
        "import torchmetrics\n",
        "import rasterio\n",
        "\n",
        "import os\n",
        "os.chdir('/content/drive/MyDrive/dataset')\n",
        "\n",
        "import numpy as np\n",
        "from tqdm import tqdm\n",
        "import matplotlib.pyplot as plt\n",
        "\n",
        "import torch\n",
        "import torchvision\n",
        "import torch.nn as nn\n",
        "import torchvision.transforms.functional as TF\n",
        "from torch import randint\n",
        "from torch.utils.data import DataLoader\n",
        "from torch.utils.data import Dataset\n",
        "import torch.optim as optim\n",
        "\n",
        "from sklearn.metrics import average_precision_score\n",
        "from sklearn.preprocessing import label_binarize\n",
        "\n",
        "import albumentations as A\n",
        "from albumentations.pytorch import ToTensorV2"
      ]
    },
    {
      "cell_type": "markdown",
      "metadata": {
        "id": "d7h6ShVUcMOG"
      },
      "source": [
        "#Dataset"
      ]
    },
    {
      "cell_type": "code",
      "execution_count": null,
      "metadata": {
        "id": "_sl_hKvAcGgG"
      },
      "outputs": [],
      "source": [
        "class DynamicEarthNetDataset(Dataset):\n",
        "    def __init__(self, file_name, transform=None):\n",
        "        self.transform = transform\n",
        "        self.images, self.masks=get_paths(file_name)\n",
        "        self.num_classes=7\n",
        "\n",
        "    def __len__(self):\n",
        "        return len(self.images)\n",
        "\n",
        "    def __getitem__(self, index):\n",
        "        img_path = self.images[index]\n",
        "        mask_path = self.masks[index]\n",
        "\n",
        "        image= rasterio.open(img_path).read()\n",
        "        image=image.astype(np.float32)\n",
        "\n",
        "        label= rasterio.open(mask_path).read()\n",
        "        mask = np.zeros((label.shape[1], label.shape[2]), dtype=np.int64)\n",
        "\n",
        "        for i in range(self.num_classes):\n",
        "          if i == 6:\n",
        "                mask[label[i, :, :] == 255] = -1\n",
        "          elif i == 3:\n",
        "              mask[label[i, :, :] == 255] = -1\n",
        "          elif i > 3:\n",
        "              mask[label[i, :, :] == 255] = i - 1\n",
        "          else:\n",
        "              mask[label[i, :, :] == 255] = i\n",
        "\n",
        "        return image, mask"
      ]
    },
    {
      "cell_type": "markdown",
      "metadata": {
        "id": "VM3PEMN73TrB"
      },
      "source": [
        "#Loaders"
      ]
    },
    {
      "cell_type": "code",
      "execution_count": null,
      "metadata": {
        "id": "-TdMfK-Q3Vb5"
      },
      "outputs": [],
      "source": [
        "def get_loaders(\n",
        "    batch_size,\n",
        "    train_transform,\n",
        "    val_transform,\n",
        "    num_workers=4,\n",
        "    pin_memory=True,\n",
        "):\n",
        "    train_ds = DynamicEarthNetDataset(\n",
        "        file_name='train.txt',\n",
        "        transform=train_transform,\n",
        "    )\n",
        "\n",
        "    train_loader = DataLoader(\n",
        "        train_ds,\n",
        "        batch_size=batch_size,\n",
        "        num_workers=num_workers,\n",
        "        pin_memory=pin_memory,\n",
        "        shuffle=True,\n",
        "    )\n",
        "\n",
        "    val_ds = DynamicEarthNetDataset(\n",
        "        file_name='val.txt',\n",
        "        transform=val_transform,\n",
        "    )\n",
        "\n",
        "    val_loader = DataLoader(\n",
        "        val_ds,\n",
        "        batch_size=batch_size,\n",
        "        num_workers=num_workers,\n",
        "        pin_memory=pin_memory,\n",
        "        shuffle=False,\n",
        "    )\n",
        "\n",
        "    test_ds=DynamicEarthNetDataset(\n",
        "        file_name='test.txt',\n",
        "        transform=val_transform,\n",
        "    )\n",
        "\n",
        "    test_loader= DataLoader(\n",
        "        test_ds,\n",
        "        batch_size=batch_size,\n",
        "        num_workers=num_workers,\n",
        "        pin_memory=pin_memory,\n",
        "        shuffle=False,\n",
        "    )\n",
        "\n",
        "    return train_loader, val_loader, test_loader"
      ]
    },
    {
      "cell_type": "markdown",
      "metadata": {
        "id": "TnQvmQKqcRci"
      },
      "source": [
        "#Model"
      ]
    },
    {
      "cell_type": "code",
      "execution_count": null,
      "metadata": {
        "id": "GSZSWSshcXSe"
      },
      "outputs": [],
      "source": [
        "class DoubleConv(nn.Module):\n",
        "    def __init__(self, in_channels, out_channels):\n",
        "        super(DoubleConv, self).__init__()\n",
        "        self.conv = nn.Sequential(\n",
        "            nn.Conv2d(in_channels, out_channels, 3, 1, 1, bias=False),\n",
        "            nn.BatchNorm2d(out_channels),\n",
        "            nn.ReLU(inplace=True),\n",
        "            nn.Conv2d(out_channels, out_channels, 3, 1, 1, bias=False),\n",
        "            nn.BatchNorm2d(out_channels),\n",
        "            nn.ReLU(inplace=True),\n",
        "        )\n",
        "\n",
        "    def forward(self, x):\n",
        "        return self.conv(x)\n",
        "\n",
        "class UNET(nn.Module):\n",
        "    def __init__(\n",
        "            self, in_channels=3, out_channels=1, features=[64, 128, 256, 512],\n",
        "    ):\n",
        "        super(UNET, self).__init__()\n",
        "        self.ups = nn.ModuleList()\n",
        "        self.downs = nn.ModuleList()\n",
        "        self.pool = nn.MaxPool2d(kernel_size=2, stride=2)\n",
        "\n",
        "        # down part\n",
        "        for feature in features:\n",
        "            self.downs.append(DoubleConv(in_channels, feature))\n",
        "            in_channels = feature\n",
        "\n",
        "        # up part\n",
        "        for feature in reversed(features):\n",
        "            self.ups.append(\n",
        "                nn.ConvTranspose2d(\n",
        "                    feature*2, feature, kernel_size=2, stride=2,\n",
        "                )\n",
        "            )\n",
        "            self.ups.append(DoubleConv(feature*2, feature))\n",
        "\n",
        "        self.bottleneck = DoubleConv(features[-1], features[-1]*2)\n",
        "        self.final_conv = nn.Conv2d(features[0], out_channels, kernel_size=1)\n",
        "\n",
        "    def forward(self, x):\n",
        "        skip_connections = []\n",
        "\n",
        "        for down in self.downs:\n",
        "            x = down(x)\n",
        "            skip_connections.append(x)\n",
        "            x = self.pool(x)\n",
        "\n",
        "        x = self.bottleneck(x)\n",
        "        skip_connections = skip_connections[::-1]\n",
        "\n",
        "        for idx in range(0, len(self.ups), 2):\n",
        "            x = self.ups[idx](x)\n",
        "            skip_connection = skip_connections[idx//2]\n",
        "\n",
        "            if x.shape != skip_connection.shape: #se l'input non è divisibile per 16\n",
        "                x = TF.resize(x, size=skip_connection.shape[2:])\n",
        "\n",
        "            concat_skip = torch.cat((skip_connection, x), dim=1)\n",
        "            x = self.ups[idx+1](concat_skip)\n",
        "\n",
        "        return self.final_conv(x)\n",
        "\n",
        "def test():\n",
        "    x = torch.randn((3, 1, 161, 161))\n",
        "    model = UNET(in_channels=1, out_channels=1)\n",
        "    preds = model(x)\n",
        "    assert preds.shape == x.shape\n",
        "\n",
        "if __name__ == \"__main__\":\n",
        "    test()"
      ]
    },
    {
      "cell_type": "markdown",
      "metadata": {
        "id": "rEwFOMfIcYvu"
      },
      "source": [
        "#Utils"
      ]
    },
    {
      "cell_type": "code",
      "execution_count": null,
      "metadata": {
        "id": "VSg2jllTcbjt"
      },
      "outputs": [],
      "source": [
        "def get_paths(file_name):\n",
        "    images = []\n",
        "    masks = []\n",
        "    with open(file_name, 'r') as file:\n",
        "        righe = file.readlines()\n",
        "\n",
        "        for riga in righe:\n",
        "            image, label = riga.split()\n",
        "            images.append(image)\n",
        "            masks.append(label)\n",
        "\n",
        "        return images, masks\n",
        "\n",
        "\n",
        "def save_checkpoint(state, filename=\"my_checkpoint.pth.tar\"):\n",
        "    print(\"=> Saving checkpoint\")\n",
        "    torch.save(state, filename)\n",
        "\n",
        "def load_checkpoint(checkpoint, model):\n",
        "    print(\"=> Loading checkpoint\")\n",
        "    model.load_state_dict(checkpoint[\"state_dict\"])\n",
        "\n",
        "\n",
        "def multispectral_to_rgb_visualization(img, lower_percentile=5, upper_percentile=95):\n",
        "    if img.ndim == 2:\n",
        "        img = img[:, :, np.newaxis]\n",
        "    img = img.transpose(1,2,0)\n",
        "    img = img[:, :, [2, 1, 0]]\n",
        "    img = np.clip(img, np.percentile(img, lower_percentile), np.percentile(img, upper_percentile))\n",
        "    img = (img - np.min(img)) / (np.max(img) - np.min(img))\n",
        "    img = (img * 255).astype(np.uint8)\n",
        "\n",
        "    return img\n",
        "\n",
        "\n",
        "def prediction_to_image(predicted_mask, num_classes=5):\n",
        "\n",
        "    if isinstance(predicted_mask, torch.Tensor):\n",
        "        predicted_mask = predicted_mask.cpu().numpy()\n",
        "\n",
        "    if predicted_mask.ndim == 3 and predicted_mask.shape[0] == 1:\n",
        "        predicted_mask = predicted_mask[0]\n",
        "\n",
        "    height, width = predicted_mask.shape\n",
        "    label_format = np.zeros((7, height, width), dtype=np.float32)\n",
        "\n",
        "    class_mapping = {\n",
        "        0: 0,\n",
        "        1: 1,\n",
        "        2: 2,\n",
        "        3: 4,\n",
        "        4: 5\n",
        "        #3 and 6 ignored\n",
        "    }\n",
        "\n",
        "    for pred_class, original_channel in class_mapping.items():\n",
        "        mask = predicted_mask == pred_class\n",
        "        label_format[original_channel][mask] = 255\n",
        "\n",
        "    return label_format\n",
        "\n",
        "def predict_and_visualize(model, image_index=10):\n",
        "\n",
        "    image = rasterio.open(get_paths('train.txt')[0][image_index]).read()\n",
        "    image = image.astype(np.float32)\n",
        "    label = rasterio.open(get_paths('train.txt')[1][image_index]).read()\n",
        "    ground_truth_mask = label.astype(np.float32)\n",
        "\n",
        "    model.eval()\n",
        "    with torch.no_grad():\n",
        "        input_image = torch.from_numpy(image).unsqueeze(0).to(DEVICE)\n",
        "        prediction = model(input_image)\n",
        "        predicted_mask_raw = torch.argmax(prediction, dim=1).cpu().numpy()\n",
        "\n",
        "        predicted_mask = prediction_to_image(predicted_mask_raw)\n",
        "\n",
        "    predicted_mask_rgb = multispectral_to_rgb_visualization(predicted_mask)\n",
        "    ground_truth_mask_rgb = multispectral_to_rgb_visualization(ground_truth_mask)\n",
        "    image_rgb = multispectral_to_rgb_visualization(image)\n",
        "\n",
        "\n",
        "    plt.figure(figsize=(15, 5))\n",
        "    plt.subplot(1, 3, 1)\n",
        "    plt.imshow(image_rgb)\n",
        "    plt.title('Original Image')\n",
        "\n",
        "    plt.subplot(1, 3, 2)\n",
        "    plt.imshow(predicted_mask_rgb) #_rgb\n",
        "    plt.title('Predicted Mask')\n",
        "\n",
        "    plt.subplot(1, 3, 3)\n",
        "    plt.imshow(ground_truth_mask_rgb)\n",
        "    plt.title('Ground Truth Mask')\n",
        "\n",
        "    plt.show()"
      ]
    },
    {
      "cell_type": "markdown",
      "metadata": {
        "id": "lCh93EwL22j0"
      },
      "source": [
        "#Metrics"
      ]
    },
    {
      "cell_type": "code",
      "execution_count": null,
      "metadata": {
        "id": "bGUlykTZ29Gk"
      },
      "outputs": [],
      "source": [
        "def mean_average_precision(y_true, y_scores, ap_scores, n_classes=5):\n",
        "\n",
        "  #one hot encoding\n",
        "  y_true_bin = label_binarize(y_true, classes=range(n_classes))\n",
        "\n",
        "  for i in range(n_classes):\n",
        "        if np.sum(y_true_bin[:, i]) > 0:\n",
        "          ap = average_precision_score(y_true_bin[:, i], y_scores[:, i])\n",
        "          ap_scores.append(ap)\n",
        "\n",
        "  mean_ap = np.mean(ap_scores) if ap_scores else 0.0\n",
        "  return mean_ap, ap_scores\n",
        "\n",
        "\n",
        "def calculate_class_weights(loader):\n",
        "    pixel_counts = torch.zeros(5, dtype=torch.float32)\n",
        "\n",
        "    print(\"Calculating weights...\")\n",
        "    for _, (_, targets) in enumerate(tqdm(loader)):\n",
        "        targets = targets.view(-1)\n",
        "\n",
        "        # ignore -1 index\n",
        "        mask = targets >= 0\n",
        "        valid_targets = targets[mask]\n",
        "\n",
        "        for class_idx in range(5):\n",
        "            pixel_counts[class_idx] += (valid_targets == class_idx).sum().item()\n",
        "\n",
        "    total_pixels = pixel_counts.sum()\n",
        "    frequencies = pixel_counts / total_pixels\n",
        "    print(f\"Frequencies: {frequencies}\")\n",
        "\n",
        "    #weights = 1.0 / (frequencies + 1e-8)\n",
        "    weights = 1.0 / torch.sqrt(frequencies + 1e-8)\n",
        "    #weights = torch.log(1.0 / frequencies + 1 + 1e-8)\n",
        "\n",
        "    weights = weights / weights.sum() * len(weights)\n",
        "    print(f\"Calculated weights: {weights}\")\n",
        "\n",
        "    return weights.to(DEVICE)"
      ]
    },
    {
      "cell_type": "markdown",
      "metadata": {
        "id": "N0hhVbd-V6RE"
      },
      "source": [
        "#Calculate metrics"
      ]
    },
    {
      "cell_type": "code",
      "execution_count": null,
      "metadata": {
        "id": "nqcSzMhhV8z6"
      },
      "outputs": [],
      "source": [
        "def calc_metrics(loader, model, loss_fn, device=\"cuda\"):\n",
        "    num_correct = 0\n",
        "    num_pixels = 0\n",
        "    num_batches = 0\n",
        "    total_loss=0\n",
        "    meanAP=[]\n",
        "    ap_scores=[]\n",
        "    accuracy_score=[]\n",
        "    loss_score=[]\n",
        "\n",
        "    model.eval()\n",
        "\n",
        "\n",
        "    with torch.no_grad():\n",
        "        for x, y in loader:\n",
        "            x = x.to(device)\n",
        "            y = y.to(device)\n",
        "            preds = model(x)\n",
        "\n",
        "            #loss\n",
        "            loss=loss_fn(preds, y)\n",
        "            total_loss +=loss.item()\n",
        "            num_batches +=1\n",
        "\n",
        "\n",
        "            #softmax and argmax\n",
        "            probabilities = torch.softmax(preds, dim=1)\n",
        "            preds_argmax=torch.argmax(probabilities, dim=1)\n",
        "\n",
        "            num_correct += (preds_argmax == y).sum()\n",
        "            num_pixels += torch.numel(preds_argmax)\n",
        "\n",
        "            #average precision\n",
        "            probs_cpu = probabilities.cpu().numpy()\n",
        "            y_cpu = y.cpu().numpy()\n",
        "\n",
        "            batch_size = probs_cpu.shape[0]\n",
        "            for b in range(batch_size):\n",
        "                probs_img = probs_cpu[b]\n",
        "                y_img = y_cpu[b]\n",
        "\n",
        "                probs_flat = probs_img.reshape(5, -1).transpose()\n",
        "                y_flat = y_img.flatten()\n",
        "\n",
        "                batch_ap, _ = mean_average_precision(y_flat, probs_flat, ap_scores=ap_scores, n_classes=5)\n",
        "                ap_scores.append(batch_ap)\n",
        "\n",
        "\n",
        "    avg_loss = total_loss / num_batches\n",
        "    epoch_mean_ap=np.mean(ap_scores)\n",
        "    meanAP.append(epoch_mean_ap)\n",
        "    accuracy=num_correct/num_pixels*100\n",
        "\n",
        "    print(f\"Mean AP: {epoch_mean_ap}\")\n",
        "    print(\n",
        "        f\"Got {num_correct}/{num_pixels} with acc {num_correct/num_pixels*100:.2f}\"\n",
        "    )\n",
        "    model.train()\n",
        "    return avg_loss, epoch_mean_ap, accuracy"
      ]
    },
    {
      "cell_type": "markdown",
      "metadata": {
        "id": "qaHdMMteceVc"
      },
      "source": [
        "#Train"
      ]
    },
    {
      "cell_type": "code",
      "execution_count": null,
      "metadata": {
        "id": "M1Dr4O-Scd98"
      },
      "outputs": [],
      "source": [
        "LEARNING_RATE = 1e-5\n",
        "DEVICE = \"cuda\" if torch.cuda.is_available() else \"cpu\"\n",
        "BATCH_SIZE = 8\n",
        "NUM_EPOCHS = 31\n",
        "NUM_WORKERS = 4\n",
        "PIN_MEMORY = False\n",
        "LOAD_MODEL = False\n",
        "tot_train_loss=[]\n",
        "tot_eval_loss=[]\n",
        "tot_train_mAP=[]\n",
        "tot_eval_mAP=[]\n",
        "train_loss=[]\n",
        "eval_loss=[]\n",
        "train_mAP=[]\n",
        "train_accuracy=[]\n",
        "tot_train_accuracy=[]\n",
        "tot_eval_accuracy=[]\n",
        "\n",
        "global model\n",
        "\n",
        "def train_fn(loader, model, optimizer, loss_fn, scaler):\n",
        "    loop = tqdm(loader)\n",
        "    model.train()\n",
        "    total_loss=0\n",
        "    num_batches=0\n",
        "\n",
        "    for batch_idx, (data, targets) in enumerate(loop):\n",
        "        data = data.to(device=DEVICE)\n",
        "        targets = targets.long().to(device=DEVICE)\n",
        "\n",
        "        #forward\n",
        "        with torch.amp.autocast('cuda'):\n",
        "            predictions = model(data)\n",
        "            loss = loss_fn(predictions, targets)\n",
        "\n",
        "        #backward\n",
        "        optimizer.zero_grad()\n",
        "        scaler.scale(loss).backward()\n",
        "        scaler.step(optimizer)\n",
        "        scaler.update()\n",
        "\n",
        "        loop.set_postfix(loss=loss.item())\n",
        "\n",
        "        total_loss += loss.item()\n",
        "        num_batches += 1\n",
        "\n",
        "    avg_train_loss = total_loss / num_batches\n",
        "    tot_train_loss.append(avg_train_loss)\n",
        "\n",
        "\n",
        "def main():\n",
        "    train_transform = A.Compose(\n",
        "        [\n",
        "            A.Rotate(limit=35, p=1.0),\n",
        "            A.HorizontalFlip(p=0.5),\n",
        "            A.VerticalFlip(p=0.1),\n",
        "            A.Normalize(\n",
        "                mean=[0.0, 0.0, 0.0],\n",
        "                std=[1.0, 1.0, 1.0],\n",
        "                max_pixel_value=255.0,\n",
        "            ),\n",
        "            ToTensorV2(),\n",
        "        ],\n",
        "    )\n",
        "\n",
        "    val_transforms = A.Compose(\n",
        "        [\n",
        "            A.Normalize(\n",
        "                mean=[0.0, 0.0, 0.0],\n",
        "                std=[1.0, 1.0, 1.0],\n",
        "                max_pixel_value=255.0,\n",
        "            ),\n",
        "            ToTensorV2(),\n",
        "        ],\n",
        "    )\n",
        "\n",
        "    global model\n",
        "    model= UNET(in_channels=4, out_channels=5).to(DEVICE)\n",
        "\n",
        "\n",
        "    class_weights=calculate_class_weights(get_loaders(\n",
        "        BATCH_SIZE,\n",
        "        train_transform,\n",
        "        val_transforms,\n",
        "        NUM_WORKERS,\n",
        "        PIN_MEMORY,\n",
        "    )[0])\n",
        "\n",
        "    loss_fn = nn.CrossEntropyLoss(weight=class_weights, ignore_index=-1)\n",
        "\n",
        "    optimizer = optim.Adam(model.parameters(), lr=LEARNING_RATE)\n",
        "\n",
        "    train_loader, val_loader, test_loader = get_loaders(\n",
        "        BATCH_SIZE,\n",
        "        train_transform,\n",
        "        val_transforms,\n",
        "        NUM_WORKERS,\n",
        "        PIN_MEMORY,\n",
        "    )\n",
        "\n",
        "    if LOAD_MODEL:\n",
        "        load_checkpoint(torch.load(\"my_checkpoint.pth.tar\"), model)\n",
        "\n",
        "\n",
        "    calc_metrics(val_loader, model, loss_fn, device=DEVICE)\n",
        "    scaler = torch.amp.GradScaler('cuda')\n",
        "\n",
        "    for epoch in range(NUM_EPOCHS):\n",
        "        print(f'epoca {epoch}')\n",
        "        train_fn(train_loader, model, optimizer, loss_fn, scaler)\n",
        "\n",
        "        # save model\n",
        "        checkpoint = {\n",
        "            'epoch': epoch,\n",
        "            \"state_dict\": model.state_dict(),\n",
        "            \"optimizer\":optimizer.state_dict(),\n",
        "        }\n",
        "        torch.save(checkpoint, f'checkpoint_epoch_{epoch+1}.pth')\n",
        "        print(f'checkpoint saved at epoch: {epoch+1}')\n",
        "\n",
        "        #show images\n",
        "        predict_and_visualize(model, image_index=10)\n",
        "        predict_and_visualize(model, image_index=30)\n",
        "        predict_and_visualize(model, image_index=55)\n",
        "        predict_and_visualize(model, image_index=100)\n",
        "\n",
        "        #trainloss every 5 epoch\n",
        "        if epoch % 5 == 0 and epoch != 0:\n",
        "          print('Metrics on train_loader: ')\n",
        "          train_loss, train_mAP, train_accuracy= calc_metrics(train_loader, model, loss_fn, device=DEVICE)\n",
        "        print()\n",
        "        print('Metrics on val_loader: ')\n",
        "        eval_loss, eval_mAP, eval_accuracy= calc_metrics(val_loader, model, loss_fn, device=DEVICE)\n",
        "\n",
        "\n",
        "        tot_eval_loss.append(eval_loss)\n",
        "        tot_eval_mAP.append(eval_mAP)\n",
        "\n",
        "        if epoch % 5 == 0 and epoch != 0:\n",
        "          tot_train_loss.append(train_loss)\n",
        "          tot_train_mAP.append(train_mAP)\n",
        "          tot_train_accuracy.append(train_accuracy)\n",
        "\n",
        "        tot_eval_accuracy.append(eval_accuracy)\n",
        "\n",
        "        print()\n",
        "\n",
        "    #test to test_set\n",
        "    print('test on test_set: ')\n",
        "    calc_metrics(test_loader, model, loss_fn, device=DEVICE)\n",
        "\n",
        "\n",
        "if __name__ == \"__main__\":\n",
        "    main()"
      ]
    },
    {
      "cell_type": "markdown",
      "source": [
        "#Visualize results"
      ],
      "metadata": {
        "id": "gwr-992hq52Q"
      }
    },
    {
      "cell_type": "markdown",
      "metadata": {
        "id": "-hzQgteWZxN5"
      },
      "source": [
        "##Visualize training loss"
      ]
    },
    {
      "cell_type": "code",
      "execution_count": null,
      "metadata": {
        "id": "qiyRUsN7LXmT"
      },
      "outputs": [],
      "source": [
        "plt.figure(figsize=(12, 4))\n",
        "plt.subplot(1, 2, 1)\n",
        "plt.plot(tot_train_loss)\n",
        "plt.title('Training Loss')\n",
        "plt.xlabel('Epoch')\n",
        "plt.ylabel('Loss')"
      ]
    },
    {
      "cell_type": "markdown",
      "metadata": {
        "id": "oWo75f4X-rbo"
      },
      "source": [
        "##Visualize validation loss"
      ]
    },
    {
      "cell_type": "code",
      "execution_count": null,
      "metadata": {
        "id": "N4sCUqoU-y62"
      },
      "outputs": [],
      "source": [
        "plt.figure(figsize=(12, 4))\n",
        "plt.subplot(1, 2, 1)\n",
        "plt.plot(tot_eval_loss)\n",
        "plt.title('Validation Loss')\n",
        "plt.xlabel('Epoch')\n",
        "plt.ylabel('Loss')"
      ]
    },
    {
      "cell_type": "markdown",
      "metadata": {
        "id": "GRv7kBNZ-7Dm"
      },
      "source": [
        "##Visualize train accuracy"
      ]
    },
    {
      "cell_type": "code",
      "execution_count": null,
      "metadata": {
        "id": "6Jufz0-8-_-l"
      },
      "outputs": [],
      "source": [
        "plt.figure(figsize=(12, 4))\n",
        "plt.subplot(1, 2, 1)\n",
        "\n",
        "# Crea l'asse x che va di 5 in 5, partendo da 5\n",
        "x_values = range(5, len(tot_train_mAP) * 5 + 5, 5)  # 5, 10, 15, 20, 25, 30...\n",
        "y_values = [acc.cpu().numpy() if isinstance(acc, torch.Tensor) else acc for acc in tot_train_accuracy]\n",
        "\n",
        "plt.plot(x_values, y_values)\n",
        "plt.title('Training Accuracy')\n",
        "plt.xlabel('Epoch')\n",
        "plt.ylabel('Accuracy')\n",
        "plt.xticks(range(5, 31, 5))  # Mostra tick da 5 a 30, ogni 5"
      ]
    },
    {
      "cell_type": "markdown",
      "metadata": {
        "id": "YqNY5E8ajgmF"
      },
      "source": [
        "##Visualize val mAP"
      ]
    },
    {
      "cell_type": "code",
      "execution_count": null,
      "metadata": {
        "id": "r4-D-GKI_TPq"
      },
      "outputs": [],
      "source": [
        "plt.figure(figsize=(12, 4))\n",
        "plt.subplot(1, 2, 1)\n",
        "plt.plot(tot_eval_mAP)\n",
        "plt.title('Validation mean AP')\n",
        "plt.xlabel('Epoch')\n",
        "plt.ylabel('mAP')"
      ]
    },
    {
      "cell_type": "markdown",
      "source": [
        "##Visualize train mAP"
      ],
      "metadata": {
        "id": "DJKhH2RCO9c7"
      }
    },
    {
      "cell_type": "code",
      "source": [
        "plt.figure(figsize=(12, 4))\n",
        "plt.subplot(1, 2, 1)\n",
        "\n",
        "# Crea l'asse x che va di 5 in 5, partendo da 5\n",
        "x_values = range(5, len(tot_train_mAP) * 5 + 5, 5)  # 5, 10, 15, 20, 25, 30...\n",
        "y_values = [acc.cpu().numpy() if isinstance(acc, torch.Tensor) else acc for acc in tot_train_mAP]\n",
        "\n",
        "plt.plot(x_values, y_values)\n",
        "plt.title('Training mAP')\n",
        "plt.xlabel('Epoch')\n",
        "plt.ylabel('Accuracy')\n",
        "plt.xticks(range(5, 31, 5))  # Mostra tick da 5 a 30, ogni 5"
      ],
      "metadata": {
        "id": "1QUGzIWXPB3k"
      },
      "execution_count": null,
      "outputs": []
    },
    {
      "cell_type": "markdown",
      "metadata": {
        "id": "zXLH8PLMftVj"
      },
      "source": [
        "##Visualize Validation Accuracy"
      ]
    },
    {
      "cell_type": "code",
      "execution_count": null,
      "metadata": {
        "id": "76FLRkQJfs4R"
      },
      "outputs": [],
      "source": [
        "plt.figure(figsize=(12, 4))\n",
        "plt.subplot(1, 2, 1)\n",
        "plt.plot([acc.cpu().numpy() if isinstance(acc, torch.Tensor) else acc for acc in tot_eval_accuracy])\n",
        "plt.title('Validation Accuracy')\n",
        "plt.xlabel('Epoch')\n",
        "plt.ylabel('Accuracy')"
      ]
    }
  ],
  "metadata": {
    "colab": {
      "collapsed_sections": [
        "UethJOQ5To32"
      ],
      "machine_shape": "hm",
      "provenance": [],
      "toc_visible": true,
      "gpuType": "A100"
    },
    "kernelspec": {
      "display_name": "Python 3",
      "name": "python3"
    },
    "language_info": {
      "codemirror_mode": {
        "name": "ipython",
        "version": 3
      },
      "file_extension": ".py",
      "mimetype": "text/x-python",
      "name": "python",
      "nbconvert_exporter": "python",
      "pygments_lexer": "ipython3",
      "version": "3.11.9"
    },
    "accelerator": "GPU"
  },
  "nbformat": 4,
  "nbformat_minor": 0
}